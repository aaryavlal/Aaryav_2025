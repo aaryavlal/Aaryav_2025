{
 "cells": [
  {
   "cell_type": "markdown",
   "metadata": {},
   "source": [
    "# Understanding Algorithms in Math and JavaScript\n",
    "\n",
    "An **algorithm** is a set of well-defined instructions or steps designed to solve a particular problem or perform a computation. Algorithms can be expressed mathematically or as code in programming languages like JavaScript.\n",
    "\n",
    "## Algorithms in Mathematical Expressions\n",
    "\n",
    "In **mathematics**, algorithms are often represented by a series of operations or formulas. A simple example is an algorithm to find the sum of numbers from `1` to `n`.\n",
    "\n",
    "### Formula:\n",
    "\n",
    "$$\n",
    "S_n = \\frac{n(n + 1)}{2}\n",
    "$$\n",
    "\n",
    "Where:\n",
    "- \\( S_n \\) is the sum of numbers from 1 to \\( n \\),\n",
    "- \\( n \\) is the upper limit of the range.\n",
    "\n",
    "This formula gives us a quick way to compute the sum without needing to loop through each number individually.\n",
    "\n",
    "### Example:\n",
    "If \\( n = 5 \\), the sum would be:\n",
    "\n",
    "$$\n",
    "S_5 = \\frac{5(5 + 1)}{2} = \\frac{5 \\times 6}{2} = 15\n",
    "$$\n",
    "\n",
    "---\n",
    "\n",
    "## Algorithms in JavaScript\n",
    "\n",
    "In **JavaScript**, this algorithm can be translated into a function. Below is a JavaScript function that takes an integer `n` and returns the sum of numbers from `1` to `n` using the same mathematical formula.\n",
    "\n",
    "### JavaScript Code:\n",
    "\n",
    "```javascript\n",
    "function sumToN(n) {\n",
    "  return (n * (n + 1)) / 2;\n",
    "}\n",
    "\n",
    "// Example usage:\n",
    "let result = sumToN(5);\n",
    "console.log(result); // Output: 15\n",
    "\n"
   ]
  }
 ],
 "metadata": {
  "language_info": {
   "name": "python"
  }
 },
 "nbformat": 4,
 "nbformat_minor": 2
}
