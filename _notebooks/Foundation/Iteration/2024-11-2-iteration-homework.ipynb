{
 "cells": [
  {
   "cell_type": "code",
   "execution_count": null,
   "metadata": {},
   "outputs": [],
   "source": [
    "---\n",
    "comments: True\n",
    "layout: post\n",
    "title: Iteration Homework\n",
    "description: An intro to data abstraction\n",
    "permalink: /csse/javascript/fundamentals/iteration/hw\n",
    "categories: [CSSE JavaScript Fundamentals]\n",
    "author: Kian Zhu, Michael Xu and Srinaga Pillutla\n",
    "---"
   ]
  },
  {
   "cell_type": "markdown",
   "metadata": {},
   "source": [
    "## Homework Assignment: for Loop Challenge\n",
    "Task: Create a program that does the following:\n",
    "\n",
    "Initialize an array with the names of five of your favorite movies.\n",
    "Use a for loop to iterate through the array and print each movie name to the console.\n",
    "After printing all movie names, print a message indicating how many movies you listed."
   ]
  },
  {
   "cell_type": "markdown",
   "metadata": {},
   "source": [
    "# **Homework**\n",
    "\n",
    "Create a **3 by 3, 2D list** that represents a **tictactoe board**.\n",
    "Use **\"X\"** for X, **\"O\"** for O, and **None** for empty tiles.\n",
    "\n",
    "Ex. board = [[\"X\",\"None\",\"O\"],  \n",
    "&emsp;&emsp;&emsp;&emsp;&emsp;&emsp;&ensp;[\"X\",\"O\",\"None\"],  \n",
    "&emsp;&emsp;&emsp;&emsp;&emsp;&emsp;&ensp;[\"O\",\"None\",\"X\"]]\n",
    "\n",
    "Iterate over the board and **identify whether it is player X's or player O's turn.**\n",
    "\n",
    "**Hint**: count the number of moves(non-None). (X goes first)\n",
    "\n",
    "**Optional**: use console.error() to report an error if the board is illegal (ex. 7 \"X\"s and 2 \"O\"s)"
   ]
  },
  {
   "cell_type": "code",
   "execution_count": 1,
   "metadata": {
    "vscode": {
     "languageId": "javascript"
    }
   },
   "outputs": [
    {
     "data": {
      "application/javascript": "\n// Initialize a 3x3 Tic Tac Toe board\nlet board = [\n    [\"X\", null, \"O\"],\n    [\"X\", \"O\", null],\n    [\"O\", null, \"X\"]\n];\n\n// Function to check whose turn it is\nfunction checkTurn(board) {\n    let countX = 0;\n    let countO = 0;\n\n    // Iterate over the board\n    for (let row of board) {\n        for (let cell of row) {\n            if (cell === \"X\") {\n                countX++;\n            } else if (cell === \"O\") {\n                countO++;\n            }\n        }\n    }\n\n    // Determine the turn or report errors\n    if (countX < countO || countX > countO + 1) {\n        console.error(\"Illegal board: Number of X's and O's is inconsistent.\");\n    } else {\n        if (countX === countO) {\n            console.log(\"It is Player X's turn.\");\n        } else {\n            console.log(\"It is Player O's turn.\");\n        }\n    }\n}\n\n// Call the function to check the turn\ncheckTurn(board);\n",
      "text/plain": [
       "<IPython.core.display.Javascript object>"
      ]
     },
     "metadata": {},
     "output_type": "display_data"
    }
   ],
   "source": [
    "%%js \n",
    "\n",
    "// Initialize a 3x3 Tic Tac Toe board\n",
    "let board = [\n",
    "    [\"X\", null, \"O\"],\n",
    "    [\"X\", \"O\", null],\n",
    "    [\"O\", null, \"X\"]\n",
    "];\n",
    "\n",
    "// Function to check whose turn it is\n",
    "function checkTurn(board) {\n",
    "    let countX = 0;\n",
    "    let countO = 0;\n",
    "\n",
    "    // Iterate over the board\n",
    "    for (let row of board) {\n",
    "        for (let cell of row) {\n",
    "            if (cell === \"X\") {\n",
    "                countX++;\n",
    "            } else if (cell === \"O\") {\n",
    "                countO++;\n",
    "            }\n",
    "        }\n",
    "    }\n",
    "\n",
    "    // Determine the turn or report errors\n",
    "    if (countX < countO || countX > countO + 1) {\n",
    "        console.error(\"Illegal board: Number of X's and O's is inconsistent.\");\n",
    "    } else {\n",
    "        if (countX === countO) {\n",
    "            console.log(\"It is Player X's turn.\");\n",
    "        } else {\n",
    "            console.log(\"It is Player O's turn.\");\n",
    "        }\n",
    "    }\n",
    "}\n",
    "\n",
    "// Call the function to check the turn\n",
    "checkTurn(board);\n"
   ]
  }
 ],
 "metadata": {
  "kernelspec": {
   "display_name": "venv",
   "language": "python",
   "name": "python3"
  },
  "language_info": {
   "codemirror_mode": {
    "name": "ipython",
    "version": 3
   },
   "file_extension": ".py",
   "mimetype": "text/x-python",
   "name": "python",
   "nbconvert_exporter": "python",
   "pygments_lexer": "ipython3",
   "version": "3.10.12"
  }
 },
 "nbformat": 4,
 "nbformat_minor": 2
}
