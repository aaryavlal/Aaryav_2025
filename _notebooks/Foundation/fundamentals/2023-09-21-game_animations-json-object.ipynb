{
 "cells": [
  {
   "attachments": {},
   "cell_type": "raw",
   "metadata": {
    "vscode": {
     "languageId": "raw"
    }
   },
   "source": [
    "---\n",
    "toc: true\n",
    "layout: post\n",
    "title: JSON Object\n",
    "description: A guide on simple parallax background animations using Javascript, and how to implement them into games\n",
    "permalink: /game/intro/json\n",
    "---\n"
   ]
  },
  {
   "cell_type": "markdown",
   "metadata": {},
   "source": [
    "## Popcorn Hack\n",
    "\n",
    "Define the purpose of the files in the RPG games. Using the Anatomy section, describe the RPG Game files in your own words:\n",
    "\n",
    "- **rpg.md**: Defines ... and starts ...\n",
    "- **GameControl.js**: Manages ... \n",
    "- **GameEnv.js**: Defines ...\n",
    "- **Background.js**: Handles ...\n",
    "- **Player.js**: Handles ..."
   ]
  },
  {
   "cell_type": "markdown",
   "metadata": {},
   "source": [
    "## RPG Game Files\n",
    "\n",
    "- **rpg.md**: Defines the overall game mechanics and structure, possibly outlining the storyline, rules, and how the game progresses. It serves as a foundational document that explains how different components interact and starts setting up the environment for the game.\n",
    "\n",
    "- **GameControl.js**: Manages the game logic and flow. This file likely controls how the game starts, stops, pauses, and progresses through different stages. It might also handle user input, decision-making, and interactions within the game.\n",
    "\n",
    "- **GameEnv.js**: Defines the game’s environment and its parameters. This might include setting up the world in which the player interacts, such as defining locations, maps, boundaries, and environmental elements like weather, lighting, or background events.\n",
    "\n",
    "- **Background.js**: Handles the visual background elements in the game. This file is likely responsible for rendering the scenery or any visual context behind the characters, like landscapes, buildings, or animated backdrops.\n",
    "\n",
    "- **Player.js**: Handles the player character, including movement, stats, health, and interactions with the game world. This file might define how the player avatar behaves, its controls, and how it responds to different game events.\n"
   ]
  },
  {
   "attachments": {},
   "cell_type": "markdown",
   "metadata": {},
   "source": [
    "## Data Definition\n",
    "This article will go through the steps of defining **JSON Object data**.  Understanding objects is crucial for understanding JavaScript, and they are used extensively in all the code we will be looking at.\n",
    "\n",
    "> JSON Object  data is used to define the sprites and backgrounds that are used within the RPG game."
   ]
  },
  {
   "cell_type": "markdown",
   "metadata": {},
   "source": [
    "### Key-Value Definition\n",
    "A JSON Object is a very common \"Data Structure\" used to represent data.\n",
    "\n",
    "> A JSON Object is a formation of key-valure pair.\n",
    "\n",
    "As a **popcord hack** replace the code in two cells with \"your name\" and other vitals as the values in the key-value pairs."
   ]
  },
  {
   "cell_type": "code",
   "execution_count": null,
   "metadata": {
    "vscode": {
     "languageId": "javascript"
    }
   },
   "outputs": [],
   "source": [
    "%%js\n",
    "\n",
    "const name = {name: 'Aaryav Lal'}\n",
    "console.log(name.name)\n",
    "\n",
    "element.append(name.name)\n"
   ]
  },
  {
   "cell_type": "code",
   "execution_count": null,
   "metadata": {
    "vscode": {
     "languageId": "javascript"
    }
   },
   "outputs": [],
   "source": [
    "%%js\n",
    "\n",
    "const person = {\n",
    "    firstName: \"Aaryav\",\n",
    "    lastName: \"Lal\",\n",
    "    age: 14,\n",
    "    fullName: function() {\n",
    "        return this.firstName + \" \" + this.lastName;\n",
    "    }\n",
    "};\n",
    "\n",
    "// Display data from the object to the console\n",
    "console.log(person.firstName)\n",
    "console.log(person.lastName)\n",
    "console.log(person.fullName());\n",
    "// Display data from the object to jupyter notebook \n",
    "element.append(person.fullName());"
   ]
  },
  {
   "cell_type": "markdown",
   "metadata": {},
   "source": [
    "## Image Data for Background\n",
    "Shown is key JSON Object definitions for a background called water.png.\n",
    "\n",
    "> JavaScript objects are often nested"
   ]
  },
  {
   "cell_type": "code",
   "execution_count": null,
   "metadata": {
    "vscode": {
     "languageId": "javascript"
    }
   },
   "outputs": [],
   "source": [
    "%%js\n",
    "\n",
    "// Background data from navigation/rpg.md\n",
    "const image_src = \"{{site.baseurl}}/images/rpg/water.png\";\n",
    "const image_data = {\n",
    "    pixels: {height: 580, width: 1038}\n",
    "};\n",
    "const image = {src: image_src, data: image_data};\n",
    "\n",
    "// review console to see JSON in memoory\n",
    "console.log(image)\n",
    "\n",
    "// display JSON in HTML\n",
    "const image_json = JSON.stringify(image, null, 2);\n",
    "element.append(`<pre>${image_json}</pre>`);"
   ]
  },
  {
   "cell_type": "markdown",
   "metadata": {},
   "source": [
    "## Sprite Data for Player\n",
    "A sprite is the foundation of an animated player.  There are many JSON Object ddefinition required to implement animations.\n",
    "\n",
    "> JavaScript Object data can be extracted with dot notation."
   ]
  },
  {
   "cell_type": "code",
   "execution_count": 1,
   "metadata": {
    "vscode": {
     "languageId": "javascript"
    }
   },
   "outputs": [
    {
     "data": {
      "application/javascript": "\n// Sprite data\nconst sprite_src = \"{{site.baseurl}}/images/rpg/turtle.png\";\nconst sprite_data = {\n    SCALE_FACTOR: 10,\n    STEP_FACTOR: 1000,\n    ANIMATION_RATE: 50,\n    pixels: {height: 280, width: 256},\n    orientation: {rows: 4, columns: 3 },\n    down: {row: 0, start: 0, columns: 3 },\n    left: {row: 1, start: 0, columns: 3 },\n    right: {row: 2, start: 0, columns: 3 },\n    up: {row: 3, start: 0, columns: 3 },\n};\nconst sprite = {src: sprite_src, data: sprite_data};\n\n// review console to see JSON in memoory\nconsole.log(sprite)\nconsole.log(\"----Extract Data with Dot Notation---\");\nconsole.log(sprite.data.up)\n\n// display JSON in HTML\nconst sprite_json = JSON.stringify(sprite, null, 2);\nelement.append(`<pre>${sprite_json}</pre>`);\nelement.append(\"----Extract Data with Dot Notation---\");\nconst sprite_partial = JSON.stringify(sprite.data.up, null, 2);\nelement.append(`<pre>${sprite_partial}</pre>`);\n",
      "text/plain": [
       "<IPython.core.display.Javascript object>"
      ]
     },
     "metadata": {},
     "output_type": "display_data"
    }
   ],
   "source": [
    "%%js\n",
    "\n",
    "// Sprite data\n",
    "const sprite_src = \"{{site.baseurl}}/images/rpg/turtle.png\";\n",
    "const sprite_data = {\n",
    "    SCALE_FACTOR: 10,\n",
    "    STEP_FACTOR: 1000,\n",
    "    ANIMATION_RATE: 50,\n",
    "    pixels: {height: 280, width: 256},\n",
    "    orientation: {rows: 4, columns: 3 },\n",
    "    down: {row: 0, start: 0, columns: 3 },\n",
    "    left: {row: 1, start: 0, columns: 3 },\n",
    "    right: {row: 2, start: 0, columns: 3 },\n",
    "    up: {row: 3, start: 0, columns: 3 },\n",
    "};\n",
    "const sprite = {src: sprite_src, data: sprite_data};\n",
    "\n",
    "// review console to see JSON in memoory\n",
    "console.log(sprite)\n",
    "console.log(\"----Extract Data with Dot Notation---\");\n",
    "console.log(sprite.data.up)\n",
    "\n",
    "// display JSON in HTML\n",
    "const sprite_json = JSON.stringify(sprite, null, 2);\n",
    "element.append(`<pre>${sprite_json}</pre>`);\n",
    "element.append(\"----Extract Data with Dot Notation---\");\n",
    "const sprite_partial = JSON.stringify(sprite.data.up, null, 2);\n",
    "element.append(`<pre>${sprite_partial}</pre>`);\n"
   ]
  }
 ],
 "metadata": {
  "kernelspec": {
   "display_name": "base",
   "language": "python",
   "name": "python3"
  },
  "language_info": {
   "codemirror_mode": {
    "name": "ipython",
    "version": 3
   },
   "file_extension": ".py",
   "mimetype": "text/x-python",
   "name": "python",
   "nbconvert_exporter": "python",
   "pygments_lexer": "ipython3",
   "version": "3.10.12"
  },
  "orig_nbformat": 4
 },
 "nbformat": 4,
 "nbformat_minor": 2
}
