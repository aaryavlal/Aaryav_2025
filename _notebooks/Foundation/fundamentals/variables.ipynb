{
 "cells": [
  {
   "cell_type": "raw",
   "metadata": {
    "vscode": {
     "languageId": "raw"
    }
   },
   "source": [
    "---\n",
    "comments: true\n",
    "layout: post\n",
    "title: JavaScript Variables, Input, Output\n",
    "description: An introduction to JavaScript variables, input, and output using the RPG game as an example.\n",
    "permalink: /csse/javascript/fundamentals/variables\n",
    "categories: [JavaScript Fundamentals]\n",
    "courses: { csse: {week: 6} }\n",
    "type: ccc\n",
    "---"
   ]
  },
  {
   "cell_type": "markdown",
   "metadata": {},
   "source": [
    "## Variables\n",
    "\n",
    "Variables are storage containers for data values used within a programming language. Variables can be useful when changing preferences, selecting a background, creating animations, and changing assets in game programming."
   ]
  },
  {
   "cell_type": "markdown",
   "metadata": {},
   "source": [
    "### Variable Inputs\n",
    "\n",
    "To obtain data from user and save into a JavaScript variable requires the use of HTML.  \n",
    "\n",
    "The `<input>` HTML element is used to create interactive controls for web-based forms in order to receive data from the user.\n",
    "\n",
    "- Geeks for Geeks Referece on [input tag](https://www.geeksforgeeks.org/html-input-tag/)\n",
    "- Remember in Jupyter Notebooks and in GitHub Pages we do not use `<head>` and `<body>` tags.  \n",
    "- Additionally, we prefer using SASS for `<style>` in GitHub Pages."
   ]
  },
  {
   "cell_type": "markdown",
   "metadata": {},
   "source": [
    "### Variable Outputs\n",
    "\n",
    "To output a variable in JavaScript it works in combination with HTML as well. To output the variable game_speed or any errors it requires  that outputs to be placed in the Document Object Model (DOM).\n",
    "\n",
    "Additionally, it is common practice in debugging a program to output to console.log.\n",
    "\n",
    "To view DOM and Developer Outputs\n",
    "- Open Help -> Toggle Developer Tools\n",
    "- Go to Console menu, you can clear console to view outputs from console comands in this cell\n",
    "- To see DOM go to Elements tab and use selector and click on output in this window."
   ]
  },
  {
   "cell_type": "code",
   "execution_count": 1,
   "metadata": {
    "vscode": {
     "languageId": "html"
    }
   },
   "outputs": [
    {
     "data": {
      "text/html": [
       "\n",
       "<!-- Input definitions -->\n",
       "<div>\n",
       "  <label for=\"speed\">Adjust Speed (1-5):</label>\n",
       "  <input type=\"number\" id=\"speed\" name=\"speed\" min=\"1\" max=\"5\" value=\"2\">\n",
       "  <button onclick=\"submitSpeed()\">Submit</button>\n",
       "</div>\n",
       "\n",
       "<!-- Document Object Model (DOM) output locations -->\n",
       "<div id=\"output\"></div>\n",
       "<div id=\"error\"></div>\n",
       "\n",
       "<script>\n",
       "  // Function to validate and output the game speed value\n",
       "  function submitSpeed() {\n",
       "    let gameSpeed = document.getElementById('speed').value;\n",
       "    \n",
       "    // Ensure the value is within the allowed range\n",
       "    if (gameSpeed < 1 || gameSpeed > 5) {\n",
       "      // Set/clear output messages when there is an error\n",
       "      document.getElementById('output').innerHTML = \"\";\n",
       "      // Output an error message to the console\n",
       "      console.error(\"Invalid game speed value:\", gameSpeed);\n",
       "      // Output an error message to the HTML page\n",
       "      document.getElementById('error').innerHTML = \"Invalid game speed value: \" + gameSpeed;\n",
       "    } else {\n",
       "      // Set/clear error messages when the value is valid\n",
       "      document.getElementById('error').innerHTML = \"\";\n",
       "      // Output the game speed value to the console\n",
       "      console.log(\"Game speed set to:\", gameSpeed);\n",
       "      // Output the game speed value to the HTML page\n",
       "      document.getElementById('output').innerHTML = \"Game speed set to: \" + gameSpeed;\n",
       "    }\n",
       "  }\n",
       "</script>\n"
      ],
      "text/plain": [
       "<IPython.core.display.HTML object>"
      ]
     },
     "metadata": {},
     "output_type": "display_data"
    }
   ],
   "source": [
    "%%html \n",
    "\n",
    "<!-- Input definitions -->\n",
    "<div>\n",
    "  <label for=\"speed\">Adjust Speed (1-5):</label>\n",
    "  <input type=\"number\" id=\"speed\" name=\"speed\" min=\"1\" max=\"5\" value=\"2\">\n",
    "  <button onclick=\"submitSpeed()\">Submit</button>\n",
    "</div>\n",
    "\n",
    "<!-- Document Object Model (DOM) output locations -->\n",
    "<div id=\"output\"></div>\n",
    "<div id=\"error\"></div>\n",
    "\n",
    "<script>\n",
    "  // Function to validate and output the game speed value\n",
    "  function submitSpeed() {\n",
    "    let gameSpeed = document.getElementById('speed').value;\n",
    "    \n",
    "    // Ensure the value is within the allowed range\n",
    "    if (gameSpeed < 1 || gameSpeed > 5) {\n",
    "      // Set/clear output messages when there is an error\n",
    "      document.getElementById('output').innerHTML = \"\";\n",
    "      // Output an error message to the console\n",
    "      console.error(\"Invalid game speed value:\", gameSpeed);\n",
    "      // Output an error message to the HTML page\n",
    "      document.getElementById('error').innerHTML = \"Invalid game speed value: \" + gameSpeed;\n",
    "    } else {\n",
    "      // Set/clear error messages when the value is valid\n",
    "      document.getElementById('error').innerHTML = \"\";\n",
    "      // Output the game speed value to the console\n",
    "      console.log(\"Game speed set to:\", gameSpeed);\n",
    "      // Output the game speed value to the HTML page\n",
    "      document.getElementById('output').innerHTML = \"Game speed set to: \" + gameSpeed;\n",
    "    }\n",
    "  }\n",
    "</script>"
   ]
  },
  {
   "cell_type": "markdown",
   "metadata": {},
   "source": [
    "### Variable Naming Conventions\n",
    "\n",
    "- **camelCase** In camel case, the first word is lowercase, and the first letter of the remaining words are uppercase: `gameSpeed`\n",
    "- **snake_case** In snake casse, the words in variables are all lowercase and are separated by a underbar: `game_speed`\n",
    "- **PascalCase** In PascalCase, the first letter in the word is capitalized: `GameSpeed`\n",
    "\n",
    "In JavaScript, there will be usage of all three types in the RPG project."
   ]
  },
  {
   "cell_type": "markdown",
   "metadata": {},
   "source": [
    "## Variables containing Variables (Reference Types)\n",
    "\n",
    "There are variables that contain other variables. These are called reference types.\n",
    "\n",
    "- **JSON Objects**: These variables contain key names and associated values (key-value pairs). The key is used for reference and the value contains the data.\n",
    "  - **Key**: This is similar to a variable name. The key describes the value and is followed by a colon.\n",
    "  - **Value**: The value is associated with the key.\n",
    "  - **Sample Definition**: `let gameAttribute = {\"Speed\": 3, \"Avatar\": \"Mario\"}`\n",
    "  - **Sample Reference**: `gameAttribute[\"Speed\"]`\n",
    "  - **Sample Output from Reference**: `3`\n",
    "\n",
    "- **JSON Arrays**: These variables contain a sequence of values.\n",
    "  - **Sample Definition**: `let scoreHistory = [50, 75, 66, 80, 100, 85]`\n",
    "  - **Sample Reference**: `scoreHistory[2]`\n",
    "  - **Sample Output from Reference**: `66`"
   ]
  },
  {
   "cell_type": "code",
   "execution_count": 8,
   "metadata": {
    "vscode": {
     "languageId": "javascript"
    }
   },
   "outputs": [
    {
     "data": {
      "application/javascript": "\n// Reference Type example\n// Open VSCode Help -> Toggle Developer Tools -> Console\n\n// JSON Object\nlet gameAttribute = {\n    \"Speed\": 3,\n    \"Avatar\": \"Mario\"\n};\n\n// Accessing JSON Object values\n// Accessing JSON Object values using dot notation\nconsole.log(\"Speed-Dot:\", gameAttribute.Speed); // Output: Speed: 3\nconsole.log(\"Avatar-Dot:\", gameAttribute.Avatar); // Output: Avatar: Mario\n\n// Accessing JSON Object values using bracket notation\nconsole.log(\"Speed-Bracket:\", gameAttribute[\"Speed\"]); // Output: Speed: 3\nconsole.log(\"Avatar-Bracket:\", gameAttribute[\"Avatar\"]); // Output: Avatar: Mario\n\n// JSON Array\nlet scoreHistory = [50, 75, 66, 80, 100, 85];\n\n// Accessing JSON Array values\nconsole.log(\"Score at index 2:\", scoreHistory[7]); // Output: Score at index 2: 66\n",
      "text/plain": [
       "<IPython.core.display.Javascript object>"
      ]
     },
     "metadata": {},
     "output_type": "display_data"
    }
   ],
   "source": [
    "%%js\n",
    "\n",
    "// Reference Type example\n",
    "// Open VSCode Help -> Toggle Developer Tools -> Console\n",
    "\n",
    "// JSON Object\n",
    "let gameAttribute = {\n",
    "    \"Speed\": 3,\n",
    "    \"Avatar\": \"Mario\"\n",
    "};\n",
    "\n",
    "// Accessing JSON Object values\n",
    "// Accessing JSON Object values using dot notation\n",
    "console.log(\"Speed-Dot:\", gameAttribute.Speed); // Output: Speed: 3\n",
    "console.log(\"Avatar-Dot:\", gameAttribute.Avatar); // Output: Avatar: Mario\n",
    "\n",
    "// Accessing JSON Object values using bracket notation\n",
    "console.log(\"Speed-Bracket:\", gameAttribute[\"Speed\"]); // Output: Speed: 3\n",
    "console.log(\"Avatar-Bracket:\", gameAttribute[\"Avatar\"]); // Output: Avatar: Mario\n",
    "\n",
    "// JSON Array\n",
    "let scoreHistory = [50, 75, 66, 80, 100, 85];\n",
    "\n",
    "// Accessing JSON Array values\n",
    "console.log(\"Score at index 2:\", scoreHistory[2]); // Output: Score at index 2: 66"
   ]
  },
  {
   "cell_type": "markdown",
   "metadata": {},
   "source": [
    "### Variable Naming Convention Hack\n",
    "\n",
    "Search up naming convention for JavaScript.  Conventions are important to easily recognize purpose of definitions.\n",
    "1. Usage of camelCase.  What is standard?\n",
    "2. Usage of UPPER_CASE snake_case.  What is standard?\n",
    "3. Usage of PascalCase.  What is standard?"
   ]
  },
  {
   "cell_type": "markdown",
   "metadata": {},
   "source": [
    "# Naming Conventions\n",
    "\n",
    "## 1. camelCase\n",
    "**Standard Usage:**  \n",
    "Used for variable names and function names. The first word is in lowercase, and each subsequent word starts with an uppercase letter (e.g., `myVariable`, `calculateTotal`, `fetchData`).\n",
    "\n",
    "**Purpose:**  \n",
    "This convention is widely recognized and helps distinguish variables and functions from classes and constants.\n",
    "\n",
    "---\n",
    "\n",
    "## 2. UPPER_CASE_SNAKE_CASE\n",
    "**Standard Usage:**  \n",
    "Typically used for constants or configuration values. All letters are uppercase, and words are separated by underscores (e.g., `MAX_LENGTH`, `API_KEY`, `DEFAULT_TIMEOUT`).\n",
    "\n",
    "**Purpose:**  \n",
    "This makes it clear that the value should not change and helps differentiate constants from regular variables.\n",
    "\n",
    "---\n",
    "\n",
    "## 3. PascalCase\n",
    "**Standard Usage:**  \n",
    "Commonly used for class names and constructor functions. Each word starts with an uppercase letter, with no spaces or underscores (e.g., `Person`, `UserProfile`, `ShoppingCart`).\n",
    "\n",
    "**Purpose:**  \n",
    "This convention indicates that the identifier is a type or a class, making it easily distinguishable from variables and functions.\n"
   ]
  },
  {
   "cell_type": "markdown",
   "metadata": {},
   "source": [
    "### RPG Project Hack\n",
    "Identify naming convention and data type used in this code.  Which items would you change according to your research on naming conventions?  What are the data types?  Change names and provide comments to to describe data types and name convention changes.  \n",
    "\n",
    "1. Make a new code cell to make it easy to compare before and after.\n",
    "2. Figure out naming convention for Key-Values items.  Source and share your reference.\n",
    "\n",
    "```js\n",
    "import GameControl from '{{site.baseurl}}/assets/js/rpg/GameControl.js';\n",
    "\n",
    "// Background data\n",
    "const image_src = \"{{site.baseurl}}/images/rpg/water.png\";\n",
    "const image_data = {\n",
    "    pixels: {height: 580, width: 1038}\n",
    "};\n",
    "const image = {src: image_src, data: image_data};\n",
    "\n",
    "// Sprite data\n",
    "const sprite_src = \"{{site.baseurl}}/images/rpg/turtle.png\";\n",
    "const sprite_data = {\n",
    "    SCALE_FACTOR: 10,\n",
    "    STEP_FACTOR: 1000,\n",
    "    ANIMATION_RATE: 50,\n",
    "    pixels: {height: 280, width: 256},\n",
    "    orientation: {rows: 4, columns: 3 },\n",
    "    down: {row: 0, start: 0, columns: 3 },\n",
    "    left: {row: 1, start: 0, columns: 3 },\n",
    "    right: {row: 2, start: 0, columns: 3 },\n",
    "    up: {row: 3, start: 0, columns: 3 },\n",
    "};\n",
    "const sprite = {src: sprite_src, data: sprite_data};\n",
    "\n",
    "// Assets for game\n",
    "const assets = {image: image, sprite: sprite}\n",
    "\n",
    "// Start game engine\n",
    "GameControl.start(assets);\n",
    "```"
   ]
  },
  {
   "cell_type": "code",
   "execution_count": 1,
   "metadata": {
    "vscode": {
     "languageId": "javascript"
    }
   },
   "outputs": [
    {
     "ename": "SyntaxError",
     "evalue": "invalid syntax (1082262691.py, line 1)",
     "output_type": "error",
     "traceback": [
      "\u001b[0;36m  Cell \u001b[0;32mIn[1], line 1\u001b[0;36m\u001b[0m\n\u001b[0;31m    import GameControl from '{{site.baseurl}}/assets/js/rpg/GameControl.js';\u001b[0m\n\u001b[0m                       ^\u001b[0m\n\u001b[0;31mSyntaxError\u001b[0m\u001b[0;31m:\u001b[0m invalid syntax\n"
     ]
    }
   ],
   "source": [
    "import GameControl from '{{site.baseurl}}/assets/js/rpg/GameControl.js';\n",
    "\n",
    "// Background data\n",
    "const backgroundImageSrc = \"{{site.baseurl}}/images/rpg/water.png\"; // Changed from image_src\n",
    "const backgroundImageData = { // Changed from image_data\n",
    "    pixels: { height: 580, width: 1038 }\n",
    "};\n",
    "const backgroundImage = { src: backgroundImageSrc, data: backgroundImageData }; // Changed from image\n",
    "\n",
    "// Sprite data\n",
    "const spriteImageSrc = \"{{site.baseurl}}/images/rpg/turtle.png\"; // Changed from sprite_src\n",
    "const spriteData = { // Changed from sprite_data\n",
    "    SCALE_FACTOR: 10,\n",
    "    STEP_FACTOR: 1000,\n",
    "    ANIMATION_RATE: 50,\n",
    "    pixels: { height: 280, width: 256 },\n",
    "    orientation: { rows: 4, columns: 3 },\n",
    "    down: { row: 0, start: 0, columns: 3 },\n",
    "    left: { row: 1, start: 0, columns: 3 },\n",
    "    right: { row: 2, start: 0, columns: 3 },\n",
    "    up: { row: 3, start: 0, columns: 3 },\n",
    "};\n",
    "const spriteImage = { src: spriteImageSrc, data: spriteData }; // Changed from sprite\n",
    "\n",
    "// Assets for game\n",
    "const gameAssets = { backgroundImage: backgroundImage, spriteImage: spriteImage }; // Changed from assets\n",
    "\n",
    "// Start game engine\n",
    "GameControl.start(gameAssets);\n"
   ]
  },
  {
   "cell_type": "markdown",
   "metadata": {},
   "source": [
    "### Code Block Hack\n",
    "\n",
    "Make a new code block for some game elements that you have in your \"Ideation\"."
   ]
  },
  {
   "cell_type": "code",
   "execution_count": 2,
   "metadata": {
    "vscode": {
     "languageId": "javascript"
    }
   },
   "outputs": [
    {
     "ename": "SyntaxError",
     "evalue": "invalid syntax (2507131226.py, line 1)",
     "output_type": "error",
     "traceback": [
      "\u001b[0;36m  Cell \u001b[0;32mIn[2], line 1\u001b[0;36m\u001b[0m\n\u001b[0;31m    import GameControl from '{{site.baseurl}}/assets/js/rpg/GameControl.js';\u001b[0m\n\u001b[0m                       ^\u001b[0m\n\u001b[0;31mSyntaxError\u001b[0m\u001b[0;31m:\u001b[0m invalid syntax\n"
     ]
    }
   ],
   "source": [
    "import GameControl from '{{site.baseurl}}/assets/js/rpg/GameControl.js';\n",
    "\n",
    "class Game {\n",
    "    constructor() {\n",
    "        // Background data\n",
    "        this.backgroundImageSrc = \"{{site.baseurl}}/images/rpg/water.png\";\n",
    "        this.backgroundImageData = {\n",
    "            pixels: { height: 580, width: 1038 }\n",
    "        };\n",
    "        this.backgroundImage = { src: this.backgroundImageSrc, data: this.backgroundImageData };\n",
    "\n",
    "        // Sprite data\n",
    "        this.spriteImageSrc = \"{{site.baseurl}}/images/rpg/turtle.png\";\n",
    "        this.spriteData = {\n",
    "            SCALE_FACTOR: 10,\n",
    "            STEP_FACTOR: 1000,\n",
    "            ANIMATION_RATE: 50,\n",
    "            pixels: { height: 280, width: 256 },\n",
    "            orientation: { rows: 4, columns: 3 },\n",
    "            down: { row: 0, start: 0, columns: 3 },\n",
    "            left: { row: 1, start: 0, columns: 3 },\n",
    "            right: { row: 2, start: 0, columns: 3 },\n",
    "            up: { row: 3, start: 0, columns: 3 },\n",
    "        };\n",
    "        this.spriteImage = { src: this.spriteImageSrc, data: this.spriteData };\n",
    "\n",
    "        // Assets for game\n",
    "        this.gameAssets = { backgroundImage: this.backgroundImage, spriteImage: this.spriteImage };\n",
    "\n",
    "        // Pellet data\n",
    "        this.pellets = []; // Array to store pellets\n",
    "        this.spriteX = 100; // Initial position of the sprite\n",
    "        this.spriteY = 100; // Initial position of the sprite\n",
    "\n",
    "        // Start the game\n",
    "        GameControl.start(this.gameAssets);\n",
    "        this.setupControls();\n",
    "    }\n",
    "\n",
    "    // Function to create a new pellet\n",
    "    createPellet() {\n",
    "        const pellet = {\n",
    "            x: this.spriteX + this.spriteData.pixels.width / 2,\n",
    "            y: this.spriteY,\n",
    "            radius: 5,\n",
    "            color: 'blue',\n",
    "            speed: 5, // Speed at which the pellet will move\n",
    "        };\n",
    "        this.pellets.push(pellet);\n",
    "    }\n",
    "\n",
    "    // Function to update pellet positions\n",
    "    updatePellets() {\n",
    "        this.pellets.forEach((pellet, index) => {\n",
    "            pellet.y -= pellet.speed; // Move pellet upwards\n",
    "            // Remove pellet if it goes off screen\n",
    "            if (pellet.y < 0) {\n",
    "                this.pellets.splice(index, 1);\n",
    "            }\n",
    "        });\n",
    "    }\n",
    "\n",
    "    // Function to handle controls\n",
    "    setupControls() {\n",
    "        window.addEventListener('keydown', (event) => {\n",
    "            if (event.code === 'Space') {\n",
    "                this.createPellet(); // Create a new pellet when space bar is pressed\n",
    "            }\n",
    "        });\n",
    "    }\n",
    "\n",
    "    // Main update loop\n",
    "    update() {\n",
    "        this.updatePellets(); // Update pellets on each frame\n",
    "        // Add additional update logic (e.g., sprite movement) here\n",
    "    }\n",
    "\n",
    "    // Render function (assuming you have a render method)\n",
    "    render(ctx) {\n",
    "        // Render background\n",
    "        ctx.drawImage(this.backgroundImage.src, 0, 0);\n",
    "        // Render the sprite (assuming sprite position is maintained)\n",
    "        ctx.drawImage(this.spriteImage.src, this.spriteX, this.spriteY);\n",
    "        \n",
    "        // Render pellets\n",
    "        this.pellets.forEach(pellet => {\n",
    "            ctx.fillStyle = pellet.color;\n",
    "            ctx.beginPath();\n",
    "            ctx.arc(pellet.x, pellet.y, pellet.radius, 0, Math.PI * 2);\n",
    "            ctx.fill();\n",
    "        });\n",
    "    }\n",
    "}\n",
    "\n",
    "// Create a new game instance\n",
    "const game = new Game();\n",
    "\n",
    "// Example game loop (you may have a different setup)\n",
    "function gameLoop() {\n",
    "    // Assuming you have a canvas context `ctx`\n",
    "    const ctx = document.getElementById('gameCanvas').getContext('2d');\n",
    "    game.update(); // Update game state\n",
    "    game.render(ctx); // Render the game\n",
    "    requestAnimationFrame(gameLoop); // Call the next frame\n",
    "}\n",
    "\n",
    "// Start the game loop\n",
    "gameLoop();\n"
   ]
  }
 ],
 "metadata": {
  "kernelspec": {
   "display_name": "venv",
   "language": "python",
   "name": "python3"
  },
  "language_info": {
   "codemirror_mode": {
    "name": "ipython",
    "version": 3
   },
   "file_extension": ".py",
   "mimetype": "text/x-python",
   "name": "python",
   "nbconvert_exporter": "python",
   "pygments_lexer": "ipython3",
   "version": "3.10.12"
  }
 },
 "nbformat": 4,
 "nbformat_minor": 2
}
