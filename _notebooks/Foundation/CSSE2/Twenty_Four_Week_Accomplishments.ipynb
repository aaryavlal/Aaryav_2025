{
 "cells": [
  {
   "cell_type": "raw",
   "metadata": {
    "vscode": {
     "languageId": "raw"
    }
   },
   "source": [
    "---\n",
    "layout: blog\n",
    "title: 5 Accomplishments in 24 weeks\n",
    "description: Aaryav Lal's accomplishments in 24 weeks\n",
    "author: Aaryav Lal\n",
    "comments: true\n",
    "---"
   ]
  },
  {
   "cell_type": "markdown",
   "metadata": {},
   "source": [
    "## Achievements I'm Most Proud Of\n",
    "\n",
    "- **Platformer Game Level (Skibidi)**\n",
    "  - This level is part of a platformer game I developed, where I focused on creating engaging gameplay mechanics, level design, and smooth transitions. \n",
    "  - The level features challenging obstacles, clever use of attacks, and creative methods to put the player through a different experience everytime they play the level. \n",
    "  - It includes dynamic environments and interactive elements that provide players with a sense of accomplishment upon completion.\n",
    "\n",
    "- **Mathematical Operators Lesson**\n",
    "  - I designed and presented a lesson on mathematical operators, breaking down complex concepts into digestible parts for students. \n",
    "  - The lesson includes a range of examples, practical applications, and exercises to ensure deep understanding. \n",
    "  - I utilized visual aids and hands-on activities to reinforce the material and keep students engaged throughout the session.\n",
    "\n",
    "- **Adventure Game**\n",
    "  - This is another game I worked on, where the player explores a pretty much a blank canvas. \n",
    "  - Even though my final result was no where near my platformer game, this game taught a basic understanding to game development. \n",
    "\n",
    "- **Blogs**\n",
    "  - I’ve written  a series of blogs on code from my platformer game, thorougly explaining each part. \n",
    "  - These blogs aim to show precise use of code and what the code blocks do. \n",
    "  - The content is detailed, and shows good understanding of the code we worked on.\n",
    "\n",
    "- **Home Screen**\n",
    "  - I designed a personalized home screen that combines functionality with aesthetics. \n",
    "  - It includes shortcuts to important applications, a visually pleasing layout, and features that enhance productivity. \n",
    "  - The home screen is organized to reflect my learnings, as well as make navigation more efficent.\n",
    "\n",
    "- **Cooperation with Classmates**\n",
    "  - I am proud of my ability to collaborate effectively with my classmates in group projects and classroom activities. \n",
    "  - I focus on clear communication, respect for others' ideas, and contributing to the success of the group. \n",
    "  - This cooperation has allowed me to learn from others, share insights, and create projects that reflect the collective effort of the team.\n"
   ]
  }
 ],
 "metadata": {
  "language_info": {
   "name": "python"
  }
 },
 "nbformat": 4,
 "nbformat_minor": 2
}
