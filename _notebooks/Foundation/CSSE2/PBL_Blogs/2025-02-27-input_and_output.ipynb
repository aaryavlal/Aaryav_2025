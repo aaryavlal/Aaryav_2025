{
 "cells": [
  {
   "cell_type": "code",
   "execution_count": null,
   "metadata": {
    "vscode": {
     "languageId": "yaml"
    }
   },
   "outputs": [],
   "source": [
    "---\n",
    "layout: post\n",
    "title: Input and Output\n",
    "description: Explanation of Input and Output from Platformer\n",
    "author: Aaryav Lal\n",
    "comments: true\n",
    "categories: [CSSE2 PBL]\n",
    "---"
   ]
  },
  {
   "cell_type": "markdown",
   "metadata": {},
   "source": [
    "# HTML5 Input and Output Elements\n",
    "\n",
    "## 1. HTML5 Input Types\n",
    "HTML5 introduced various input types for better form handling and validation:\n",
    "\n",
    "- `type=\"text\"`: Single-line text input.\n",
    "- `type=\"password\"`: Masked text for passwords.\n",
    "- `type=\"email\"`: Validates email format.\n",
    "- `type=\"tel\"`: Telephone input.\n",
    "- `type=\"url\"`: Validates URL format.\n",
    "- `type=\"number\"`: Numeric input.\n",
    "- `type=\"range\"`: Slider for selecting a value.\n",
    "- `type=\"date\"`, `type=\"time\"`, `type=\"datetime-local\"`: Date/time inputs.\n",
    "- `type=\"checkbox\"`, `type=\"radio\"`: Boolean or option selection.\n",
    "- `type=\"file\"`: File selection.\n",
    "- `type=\"submit\"`: Submits the form.\n",
    "- `type=\"reset\"`: Resets the form.\n",
    "\n",
    "## 2. HTML5 Output Element\n",
    "- `<output>`: Displays the result of a calculation or user action, often used with JavaScript.\n",
    "\n",
    "## 3. HTML5 Form Validation\n",
    "HTML5 offers built-in validation:\n",
    "- `required`: Ensures fields are filled.\n",
    "- `pattern`: Validates input with a regex.\n",
    "- `min`, `max`, `step`: Set value ranges.\n",
    "- `maxlength`: Limits character input.\n",
    "\n",
    "These elements enhance form usability and reduce the need for extra JavaScript validation.\n"
   ]
  },
  {
   "cell_type": "markdown",
   "metadata": {},
   "source": [
    "## Examples of DOM and Valadation\n",
    "\n",
    "```html \n",
    "<form id=\"gameForm\">\n",
    "    <input type=\"text\" id=\"username\" name=\"username\" required minlength=\"3\" placeholder=\"Username\">\n",
    "    <input type=\"email\" id=\"email\" name=\"email\" required placeholder=\"Email\">\n",
    "    <input type=\"number\" id=\"level\" name=\"level\" required min=\"1\" max=\"100\" placeholder=\"Level\">\n",
    "    <button type=\"submit\">Submit</button>\n",
    "</form>\n",
    "\n",
    "<p id=\"message\"></p>\n",
    "\n",
    "<script>\n",
    "    document.getElementById('gameForm').addEventListener('submit', function (event) {\n",
    "        event.preventDefault();\n",
    "        const messageElement = document.getElementById('message');\n",
    "\n",
    "        if (this.checkValidity()) {\n",
    "            messageElement.textContent = 'Form is valid!';\n",
    "            messageElement.style.color = 'green';\n",
    "        } else {\n",
    "            messageElement.textContent = 'Please fill out the form correctly.';\n",
    "            messageElement.style.color = 'red';\n",
    "        }\n",
    "    });\n",
    "</script>\n",
    "```\n",
    "### Explanation:\n",
    "\n",
    "- **HTML5 Validation**:\n",
    "  - `required`: Ensures the field must be filled.\n",
    "  - `minlength`/`maxlength`: Sets a character length range for the username.\n",
    "  - `min`/`max`: Defines valid numeric ranges for the level.\n",
    "  - `type=\"email\"`: Ensures the input follows the email format.\n",
    "  \n",
    "- **JavaScript Validation**:\n",
    "  - `checkValidity()`: Checks if the form fields meet the HTML5 validation rules.\n",
    "  - Depending on the validation result, a message is displayed using the `messageElement` in the DOM, which updates the content of the paragraph with an `id=\"message\"`. The color of the message changes based on whether the form is valid (green) or invalid (red).\n"
   ]
  }
 ],
 "metadata": {
  "language_info": {
   "name": "python"
  }
 },
 "nbformat": 4,
 "nbformat_minor": 2
}
