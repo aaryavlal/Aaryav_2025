{
 "cells": [
  {
   "cell_type": "code",
   "execution_count": null,
   "metadata": {
    "vscode": {
     "languageId": "yaml"
    }
   },
   "outputs": [],
   "source": [
    "---\n",
    "layout: blog\n",
    "title: Retrospective Engineering\n",
    "description: Reflection on reviews and Night at the Musuem\n",
    "author: Aaryav Lal\n",
    "comments: \n",
    "categories: [CSSE2 PBL]\n",
    "---"
   ]
  },
  {
   "cell_type": "markdown",
   "metadata": {},
   "source": [
    "## Live Demos\n",
    "\n",
    "While classmates and parents experienced my game, they showed struggle in killing the boss and moving on. The attack cooldown timer may have been to long so I shortened it.\n",
    "\n",
    "## Feedback/Reviews\n",
    "\n",
    " - Very good game, jump could be fixed so its more realistic \n",
    " - I like how you have to kill the guy, but make it so it does more damage\n",
    " - Very good editing of level\n",
    " - Its cool how it resets you after you touch the toilet\n",
    " -  I really like the boss in the background, if you fix the jump that would be cool\n",
    " - It takes too long to tap and kill the boss\n",
    " - The laser is to hard to avoid\n",
    " - The attack is cool but its also hard to keep tapping\n",
    "\n",
    "\n",
    "## N@TM Reflection\n",
    "\n",
    "N@TM was a super enjoyable experience, where I met people who were more experienced and better than me. Overall, my game seemed to be pretty attention catching, having parents demoing my game and giving me feedback. \n",
    "\n",
    "## Future Plans\n",
    "\n",
    "### If I had more time to continue working on the game\n",
    "\n",
    "- Improve jump physics for all levels\n",
    "- Improve player collision physics with blocks (eg. teleporting straight through them)\n",
    "- Make a universal sprite throughout the levels, having the same charecter but it changes costumes to match the theme of each level\n"
   ]
  },
  {
   "cell_type": "markdown",
   "metadata": {},
   "source": [
    "## Self Grade\n",
    "\n",
    "| Topic        | Points        | Explanation                 |\n",
    "|--------------|---------------|----------------------------|\n",
    "| Eight Blogs  | 0.9        | Blogs are thorougly complete with explanations on everything |\n",
    "| Platformer Progress |0.92 | Platformer changes are good, spent a large amount of time working |\n",
    "| 5 Things in 24 Weeks   |0.9  | Reflected on 5 things, explaning why I liked it |\n",
    "|Draw IO + Latest game feature| 0.91 | Latest game feature was quito good and Draw IO is detailed |\n",
    "| N@TM Feedback     | 0.9            | N@TM provided a good amount of feedback, with helpful live demos |\n"
   ]
  }
 ],
 "metadata": {
  "language_info": {
   "name": "python"
  }
 },
 "nbformat": 4,
 "nbformat_minor": 2
}
