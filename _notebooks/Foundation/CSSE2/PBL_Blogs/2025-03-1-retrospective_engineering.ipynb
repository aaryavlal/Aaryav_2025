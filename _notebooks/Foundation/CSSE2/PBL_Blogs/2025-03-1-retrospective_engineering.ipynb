{
 "cells": [
  {
   "cell_type": "code",
   "execution_count": null,
   "metadata": {
    "vscode": {
     "languageId": "yaml"
    }
   },
   "outputs": [],
   "source": [
    "---\n",
    "layout: post\n",
    "title: Retrospective Engineering\n",
    "description: Reflection on reviews and Night at the Musuem\n",
    "author: Aaryav Lal\n",
    "comments: \n",
    "categories: [CSSE2 PBL]\n",
    "---"
   ]
  },
  {
   "cell_type": "markdown",
   "metadata": {},
   "source": [
    "## Live Demos\n",
    "\n",
    "While classmates and parents experienced my game, they showed struggle in killing the boss and moving on. The attack cooldown timer may have been to long so I shortened it.\n",
    "\n",
    "## Feedback/Reviews\n",
    "\n",
    " - Very good game, jump could be fixed so its more realistic \n",
    " - I like how you have to kill the guy, but make it so it does more damage\n",
    " - Very good editing of level\n",
    " - Its cool how it resets you after you touch the toilet\n",
    " -  I really like the boss in the background, if you fix the jump that would be cool\n",
    " - It takes too long to tap and kill the boss\n",
    " - The laser is to hard to avoid\n",
    " - The attack is cool but its also hard to keep tapping\n",
    "\n",
    "\n",
    "## N@TM Reflection\n",
    "\n",
    "N@TM was a super enjoyable experience, where I met people who were more experienced and better than me. Overall, my game seemed to be pretty attention catching, having parents demoing my game and giving me feedback. \n",
    "\n",
    "## Future Plans\n",
    "\n",
    "### If I had more time to continue working on the game\n",
    "\n",
    "- Improve jump physics for all levels\n",
    "- Improve player collision physics with blocks (eg. teleporting straight through them)\n",
    "- Make a universal sprite throughout the levels, having the same charecter but it changes costumes to match the theme of each level\n"
   ]
  },
  {
   "cell_type": "markdown",
   "metadata": {},
   "source": [
    "## Self Grade\n",
    "\n",
    "| Topic        | Points        | Explanation                 |\n",
    "|--------------|---------------|----------------------------|\n",
    "| Eight Blogs  | 4.7        | Blogs are thorougly complete with explanations on everything |\n",
    "| Latest game feature |1.95 | Platformer changes are good, spent a large amount of time working |\n",
    "| N@TM Feedback   |1  |Got 8 reviews and reviewd 6 other peoples projects |\n",
    "|Draw IO + Latest game feature| 0.97 | Latest game feature was quito good and Draw IO is detailed |\n",
    "| Extra Credit  | 1            | Detailed ideas of future plans, good reflection, lots of personal project, attendance of community college, and taking interest in the bathroom pass prokect, and helping classmates with games and final preperation. |\n",
    "| Total   | 9.62 |    N/A  |"
   ]
  }
 ],
 "metadata": {
  "language_info": {
   "name": "python"
  }
 },
 "nbformat": 4,
 "nbformat_minor": 2
}
