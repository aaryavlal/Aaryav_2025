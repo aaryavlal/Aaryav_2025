{
 "cells": [
  {
   "cell_type": "raw",
   "metadata": {
    "vscode": {
     "languageId": "raw"
    }
   },
   "source": [
    "---\n",
    "layout: blog\n",
    "title: Software Development Lifcycle\n",
    "description: Methods like forking and merging \n",
    "author: Aaryav Lal\n",
    "comments: true\n",
    "---"
   ]
  },
  {
   "cell_type": "markdown",
   "metadata": {},
   "source": [
    "# Breakdown of Source Control Concepts\n",
    "\n",
    "## 1. **Source Control**\n",
    "   - **Definition**: Source control (or version control) is a system that tracks changes to code over time, allowing multiple people to collaborate on the same project. It helps in maintaining a history of changes, facilitates collaboration, and ensures that work can be reverted to previous versions if necessary.\n",
    "   - **Tools**: Git (most popular), Subversion (SVN), Mercurial.\n",
    "\n",
    "## 2. **Forking**\n",
    "   - **Definition**: Forking is a process where you create a personal copy of someone else’s repository. This is typically done when you want to contribute to a project but do not have write access to the original repository.\n",
    "   - **Use Case**: Forking is common in open-source projects where contributors create their own version of the repository, make changes, and then propose those changes to the original repository via pull requests.\n",
    "   - **Example**: You fork a project on GitHub, make improvements, and submit a pull request to the original repository.\n",
    "\n",
    "## 3. **Branching**\n",
    "   - **Definition**: A branch is a separate line of development in your repository. By creating branches, you can isolate changes and work on new features or bug fixes without affecting the main codebase (typically the `main` or `master` branch).\n",
    "   - **Types**:\n",
    "     - **Feature Branches**: Used to develop new features.\n",
    "     - **Bugfix Branches**: Used to fix bugs.\n",
    "     - **Release Branches**: Used for preparing new releases.\n",
    "   - **Benefits**: It allows developers to work on multiple features in parallel without interfering with each other's code.\n",
    "\n",
    "## 4. **Building**\n",
    "   - **Definition**: Building refers to the process of transforming source code into a running application, typically involving compilation, linking, and packaging of software.\n",
    "   - **Steps**:\n",
    "     - **Compilation**: Converting source code into machine code.\n",
    "     - **Linking**: Combining object files into a single executable.\n",
    "     - **Packaging**: Creating distributable files (e.g., .zip, .tar).\n",
    "   - **Tools**: Build tools like Maven, Gradle, Ant, or Makefiles are often used in this process.\n",
    "\n",
    "## 5. **Testing**\n",
    "   - **Definition**: Testing involves running automated or manual tests on the software to ensure it works as expected. Tests help catch bugs and prevent regressions.\n",
    "   - **Types**:\n",
    "     - **Unit Testing**: Testing individual components or functions of the code.\n",
    "     - **Integration Testing**: Testing interactions between different components.\n",
    "     - **System Testing**: Testing the whole system as a unified entity.\n",
    "     - **Acceptance Testing**: Verifying that the software meets business requirements.\n",
    "   - **Tools**: JUnit, pytest, Selenium, Mocha, etc.\n",
    "\n",
    "## 6. **Verification**\n",
    "   - **Definition**: Verification is the process of ensuring that the software was built correctly and that it adheres to the design specifications and requirements.\n",
    "   - **Example**: This includes validating that the correct functionality is implemented, the system is secure, and the software meets performance standards.\n",
    "   - **Techniques**:\n",
    "     - **Code Reviews**: Peers review code for correctness and quality.\n",
    "     - **Static Analysis**: Tools analyze code for potential issues without executing it (e.g., SonarQube).\n",
    "\n",
    "## 7. **Pull Requests (PRs)**\n",
    "   - **Definition**: A pull request is a proposal to merge changes from one branch or fork into another (usually from a feature branch into the main branch). It allows team members to review, discuss, and approve changes before they are merged into the main codebase.\n",
    "   - **Process**:\n",
    "     - A developer creates a branch and makes changes.\n",
    "     - After completing the work, they push the changes and create a pull request.\n",
    "     - The team reviews the changes, comments, and suggests modifications.\n",
    "     - Once reviewed and approved, the changes are merged into the main branch.\n",
    "   - **Tools**: GitHub, GitLab, Bitbucket.\n",
    "\n",
    "## 8. **Merging**\n",
    "   - **Definition**: Merging is the process of combining changes from one branch into another. It is typically done once a pull request is reviewed and approved.\n",
    "   - **Merge Conflicts**: Sometimes, changes made in different branches conflict with each other, requiring manual intervention to resolve the conflict.\n",
    "   - **Types**:\n",
    "     - **Fast-forward Merge**: If the target branch hasn’t moved forward since the branch was created, the changes are added directly.\n",
    "     - **3-Way Merge**: When there are divergent changes in both branches, Git performs a 3-way merge using the base, the feature branch, and the target branch.\n",
    "\n",
    "## 9. **Deployment**\n",
    "   - **Definition**: Deployment is the process of releasing a software application to a live environment, where end-users can access and use it.\n",
    "   - **Types**:\n",
    "     - **Continuous Deployment (CD)**: Automatically deploys code to production as soon as it passes all tests.\n",
    "     - **Manual Deployment**: A developer or operations team manually deploys code after tests and reviews.\n",
    "   - **Tools**: Jenkins, GitLab CI/CD, Docker, Kubernetes, AWS, Heroku.\n",
    "\n",
    "   - **Steps**:\n",
    "     - **Build**: The application is built and packaged.\n",
    "     - **Test**: Automated tests are run to ensure no regressions.\n",
    "     - **Deploy**: The application is deployed to a staging or production environment.\n",
    "     - **Monitor**: Post-deployment monitoring to ensure everything runs smoothly.\n",
    "\n",
    "---"
   ]
  }
 ],
 "metadata": {
  "language_info": {
   "name": "python"
  }
 },
 "nbformat": 4,
 "nbformat_minor": 2
}
