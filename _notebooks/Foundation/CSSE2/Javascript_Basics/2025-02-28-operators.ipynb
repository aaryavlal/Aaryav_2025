{
 "cells": [
  {
   "cell_type": "code",
   "execution_count": null,
   "metadata": {
    "vscode": {
     "languageId": "yaml"
    }
   },
   "outputs": [],
   "source": [
    "---\n",
    "layout: blog\n",
    "title: Mathematical Operators\n",
    "description: Explanation of Mathematical Operators in Platformer Game\n",
    "author: Aaryav Lal\n",
    "comments: true\n",
    "categories: [CSSE1]\n",
    "---"
   ]
  },
  {
   "cell_type": "markdown",
   "metadata": {},
   "source": [
    "### String Operations\n",
    "String operations involve manipulating text in various ways, such as concatenating, modifying, or formatting strings.\n",
    "\n",
    "- **Transition property for animations**:\n",
    "    ```javascript\n",
    "    target.canvas.style.transition = \"transform 0.5s\";\n",
    "    ```\n",
    "    This sets the transition effect for an animation to be smooth over 0.5 seconds.\n",
    "\n",
    "- **Setting the laser's position and transformation**:\n",
    "    ```javascript\n",
    "    this.laser.style.left = `-2000px`;\n",
    "    ```\n",
    "    This changes the position of the laser by modifying its left property with a string value.\n",
    "\n",
    "### Mathematical Operators\n",
    "Mathematical operators perform arithmetic operations, such as addition, subtraction, multiplication, and division.\n",
    "\n",
    "- **Adjusting position based on screen width**:\n",
    "    ```javascript\n",
    "    this.x = GameEnv.PlayerPosition.playerX - 0.14 * GameEnv.innerWidth;\n",
    "    ```\n",
    "    This calculates a new x-coordinate based on the player’s position and a fraction of the screen width.\n",
    "\n",
    "- **Randomizing laser delay**:\n",
    "    ```javascript\n",
    "    return Math.floor(Math.random() * (maxDelay - minDelay + 1)) + minDelay;\n",
    "    ```\n",
    "    This generates a random number between a minimum and maximum value (in frames).\n",
    "\n",
    "### Boolean Expressions\n",
    "Boolean expressions evaluate conditions that return either true or false, used to make decisions in code.\n",
    "\n",
    "- **Checking if the Titan is dead**:\n",
    "    ```javascript\n",
    "    if (this.currentHp <= 0 && !this.state.isDead) { ... }\n",
    "    ```\n",
    "    This checks if the Titan's health is less than or equal to zero and whether it’s not already dead.\n",
    "\n",
    "- **Checking the player's attack status**:\n",
    "    ```javascript\n",
    "    if (GameEnv.playerAttack && !this.state.isDead) { ... }\n",
    "    ```\n",
    "    This evaluates if the player is attacking and the Titan is not dead before taking an action.\n"
   ]
  }
 ],
 "metadata": {
  "kernelspec": {
   "display_name": "venv",
   "language": "python",
   "name": "python3"
  },
  "language_info": {
   "name": "python",
   "version": "3.12.3"
  }
 },
 "nbformat": 4,
 "nbformat_minor": 2
}
